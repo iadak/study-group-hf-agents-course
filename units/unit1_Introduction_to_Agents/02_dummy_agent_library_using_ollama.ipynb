{
 "cells": [
  {
   "cell_type": "markdown",
   "metadata": {},
   "source": [
    "# [Dummy Agent Library](https://huggingface.co/agents-course/notebooks/blob/main/unit1/dummy_agent_library.ipynb) using Ollama"
   ]
  },
  {
   "cell_type": "markdown",
   "metadata": {},
   "source": [
    "**Setup Insttructions for Ollama**\n",
    "\n",
    "1. Download the Ollama from here: https://ollama.com/download\n",
    "2. Install the CLI after installation of Ollama\n",
    "3. Run `qwen3:0.6b` using following command:\n",
    "   \n",
    "   ```commandline\n",
    "   ollama run qwen3:0.6b\n",
    "   ```"
   ]
  },
  {
   "cell_type": "code",
   "execution_count": 8,
   "metadata": {},
   "outputs": [],
   "source": [
    "from dotenv import load_dotenv\n",
    "from smolagents import LiteLLMModel, CodeAgent\n",
    "\n",
    "load_dotenv()\n",
    "\n",
    "#MODEL_ID = \"ollama_chat/qwen3:0.6b\"\n",
    "MODEL_ID = \"ollama_chat/qwen2.5-coder:3b\"\n",
    "\n",
    "model = LiteLLMModel(\n",
    "    model_id=MODEL_ID,  # Or try other Ollama-supported models\n",
    "    api_base=\"http://127.0.0.1:11434\",  # Default Ollama local server\n",
    "    num_ctx=8192,\n",
    ")\n",
    "\n",
    "agent = CodeAgent(\n",
    "    model=model,\n",
    "    tools=[],\n",
    "    add_base_tools=True,\n",
    ")\n"
   ]
  },
  {
   "cell_type": "code",
   "execution_count": 9,
   "metadata": {},
   "outputs": [
    {
     "data": {
      "text/html": [
       "<pre style=\"white-space:pre;overflow-x:auto;line-height:normal;font-family:Menlo,'DejaVu Sans Mono',consolas,'Courier New',monospace\"><span style=\"color: #d4b702; text-decoration-color: #d4b702\">╭──────────────────────────────────────────────────── </span><span style=\"color: #d4b702; text-decoration-color: #d4b702; font-weight: bold\">New run</span><span style=\"color: #d4b702; text-decoration-color: #d4b702\"> ────────────────────────────────────────────────────╮</span>\n",
       "<span style=\"color: #d4b702; text-decoration-color: #d4b702\">│</span>                                                                                                                 <span style=\"color: #d4b702; text-decoration-color: #d4b702\">│</span>\n",
       "<span style=\"color: #d4b702; text-decoration-color: #d4b702\">│</span> <span style=\"font-weight: bold\">The capital of France is</span>                                                                                        <span style=\"color: #d4b702; text-decoration-color: #d4b702\">│</span>\n",
       "<span style=\"color: #d4b702; text-decoration-color: #d4b702\">│</span>                                                                                                                 <span style=\"color: #d4b702; text-decoration-color: #d4b702\">│</span>\n",
       "<span style=\"color: #d4b702; text-decoration-color: #d4b702\">╰─ LiteLLMModel - ollama_chat/qwen2.5-coder:3b ───────────────────────────────────────────────────────────────────╯</span>\n",
       "</pre>\n"
      ],
      "text/plain": [
       "\u001b[38;2;212;183;2m╭─\u001b[0m\u001b[38;2;212;183;2m───────────────────────────────────────────────────\u001b[0m\u001b[38;2;212;183;2m \u001b[0m\u001b[1;38;2;212;183;2mNew run\u001b[0m\u001b[38;2;212;183;2m \u001b[0m\u001b[38;2;212;183;2m───────────────────────────────────────────────────\u001b[0m\u001b[38;2;212;183;2m─╮\u001b[0m\n",
       "\u001b[38;2;212;183;2m│\u001b[0m                                                                                                                 \u001b[38;2;212;183;2m│\u001b[0m\n",
       "\u001b[38;2;212;183;2m│\u001b[0m \u001b[1mThe capital of France is\u001b[0m                                                                                        \u001b[38;2;212;183;2m│\u001b[0m\n",
       "\u001b[38;2;212;183;2m│\u001b[0m                                                                                                                 \u001b[38;2;212;183;2m│\u001b[0m\n",
       "\u001b[38;2;212;183;2m╰─\u001b[0m\u001b[38;2;212;183;2m LiteLLMModel - ollama_chat/qwen2.5-coder:3b \u001b[0m\u001b[38;2;212;183;2m──────────────────────────────────────────────────────────────────\u001b[0m\u001b[38;2;212;183;2m─╯\u001b[0m\n"
      ]
     },
     "metadata": {},
     "output_type": "display_data"
    },
    {
     "data": {
      "text/html": [
       "<pre style=\"white-space:pre;overflow-x:auto;line-height:normal;font-family:Menlo,'DejaVu Sans Mono',consolas,'Courier New',monospace\"><span style=\"color: #d4b702; text-decoration-color: #d4b702\">━━━━━━━━━━━━━━━━━━━━━━━━━━━━━━━━━━━━━━━━━━━━━━━━━━━━━ </span><span style=\"font-weight: bold\">Step </span><span style=\"color: #008080; text-decoration-color: #008080; font-weight: bold\">1</span><span style=\"color: #d4b702; text-decoration-color: #d4b702\"> ━━━━━━━━━━━━━━━━━━━━━━━━━━━━━━━━━━━━━━━━━━━━━━━━━━━━━━</span>\n",
       "</pre>\n"
      ],
      "text/plain": [
       "\u001b[38;2;212;183;2m━━━━━━━━━━━━━━━━━━━━━━━━━━━━━━━━━━━━━━━━━━━━━━━━━━━━━ \u001b[0m\u001b[1mStep \u001b[0m\u001b[1;36m1\u001b[0m\u001b[38;2;212;183;2m ━━━━━━━━━━━━━━━━━━━━━━━━━━━━━━━━━━━━━━━━━━━━━━━━━━━━━━\u001b[0m\n"
      ]
     },
     "metadata": {},
     "output_type": "display_data"
    },
    {
     "data": {
      "text/html": [
       "<pre style=\"white-space:pre;overflow-x:auto;line-height:normal;font-family:Menlo,'DejaVu Sans Mono',consolas,'Courier New',monospace\"> ─ <span style=\"font-weight: bold\">Executing parsed code:</span> ──────────────────────────────────────────────────────────────────────────────────────── \n",
       "  <span style=\"color: #f8f8f2; text-decoration-color: #f8f8f2; background-color: #272822\">capital_city </span><span style=\"color: #ff4689; text-decoration-color: #ff4689; background-color: #272822\">=</span><span style=\"color: #f8f8f2; text-decoration-color: #f8f8f2; background-color: #272822\"> web_search(query</span><span style=\"color: #ff4689; text-decoration-color: #ff4689; background-color: #272822\">=</span><span style=\"color: #e6db74; text-decoration-color: #e6db74; background-color: #272822\">\"capital city of france\"</span><span style=\"color: #f8f8f2; text-decoration-color: #f8f8f2; background-color: #272822\">)</span><span style=\"background-color: #272822\">                                                      </span>  \n",
       "  <span style=\"color: #f8f8f2; text-decoration-color: #f8f8f2; background-color: #272822\">print(</span><span style=\"color: #e6db74; text-decoration-color: #e6db74; background-color: #272822\">\"Capital city of France:\"</span><span style=\"color: #f8f8f2; text-decoration-color: #f8f8f2; background-color: #272822\">, capital_city)</span><span style=\"background-color: #272822\">                                                                 </span>  \n",
       "  <span style=\"color: #f8f8f2; text-decoration-color: #f8f8f2; background-color: #272822\">final_answer(capital_city)</span><span style=\"background-color: #272822\">                                                                                     </span>  \n",
       " ───────────────────────────────────────────────────────────────────────────────────────────────────────────────── \n",
       "</pre>\n"
      ],
      "text/plain": [
       " ─ \u001b[1mExecuting parsed code:\u001b[0m ──────────────────────────────────────────────────────────────────────────────────────── \n",
       "  \u001b[38;2;248;248;242;48;2;39;40;34mcapital_city\u001b[0m\u001b[38;2;248;248;242;48;2;39;40;34m \u001b[0m\u001b[38;2;255;70;137;48;2;39;40;34m=\u001b[0m\u001b[38;2;248;248;242;48;2;39;40;34m \u001b[0m\u001b[38;2;248;248;242;48;2;39;40;34mweb_search\u001b[0m\u001b[38;2;248;248;242;48;2;39;40;34m(\u001b[0m\u001b[38;2;248;248;242;48;2;39;40;34mquery\u001b[0m\u001b[38;2;255;70;137;48;2;39;40;34m=\u001b[0m\u001b[38;2;230;219;116;48;2;39;40;34m\"\u001b[0m\u001b[38;2;230;219;116;48;2;39;40;34mcapital city of france\u001b[0m\u001b[38;2;230;219;116;48;2;39;40;34m\"\u001b[0m\u001b[38;2;248;248;242;48;2;39;40;34m)\u001b[0m\u001b[48;2;39;40;34m                                                      \u001b[0m  \n",
       "  \u001b[38;2;248;248;242;48;2;39;40;34mprint\u001b[0m\u001b[38;2;248;248;242;48;2;39;40;34m(\u001b[0m\u001b[38;2;230;219;116;48;2;39;40;34m\"\u001b[0m\u001b[38;2;230;219;116;48;2;39;40;34mCapital city of France:\u001b[0m\u001b[38;2;230;219;116;48;2;39;40;34m\"\u001b[0m\u001b[38;2;248;248;242;48;2;39;40;34m,\u001b[0m\u001b[38;2;248;248;242;48;2;39;40;34m \u001b[0m\u001b[38;2;248;248;242;48;2;39;40;34mcapital_city\u001b[0m\u001b[38;2;248;248;242;48;2;39;40;34m)\u001b[0m\u001b[48;2;39;40;34m                                                                 \u001b[0m  \n",
       "  \u001b[38;2;248;248;242;48;2;39;40;34mfinal_answer\u001b[0m\u001b[38;2;248;248;242;48;2;39;40;34m(\u001b[0m\u001b[38;2;248;248;242;48;2;39;40;34mcapital_city\u001b[0m\u001b[38;2;248;248;242;48;2;39;40;34m)\u001b[0m\u001b[48;2;39;40;34m                                                                                     \u001b[0m  \n",
       " ───────────────────────────────────────────────────────────────────────────────────────────────────────────────── \n"
      ]
     },
     "metadata": {},
     "output_type": "display_data"
    },
    {
     "data": {
      "text/html": [
       "<pre style=\"white-space:pre;overflow-x:auto;line-height:normal;font-family:Menlo,'DejaVu Sans Mono',consolas,'Courier New',monospace\"><span style=\"font-weight: bold\">Execution logs:</span>\n",
       "Capital city of France: ## Search Results\n",
       "\n",
       "[Paris - Wikipedia](https://en.wikipedia.org/wiki/Paris)\n",
       "Paris (French pronunciation: ⓘ) is the capital and largest city of France.With an estimated population of 2,048,472\n",
       "residents in January 2025 [3] in an area of more than 105 km 2 (41 sq mi), [4] Paris is the fourth-most populous \n",
       "city in the European Union and the 30th most densely populated city in the world in 2022. [5] Since the 17th \n",
       "century, Paris has been one of the world's major centres ...\n",
       "\n",
       "[Paris | Definition, Map, Population, Facts, &amp; History | Britannica](https://www.britannica.com/place/Paris)\n",
       "Paris, city and capital of France, located along the Seine River, in the north-central part of the country. Paris \n",
       "is one of the world's most important and attractive cities, famed for its gastronomy, haute couture, painting, \n",
       "literature, and intellectual community. Learn more about Paris in this article.\n",
       "\n",
       "[What is the Capital of France? - \n",
       "WorldAtlas](https://www.worldatlas.com/articles/what-is-the-capital-of-france.html)\n",
       "Learn about the history, geography, economy, tourism, and administration of Paris, the capital city of France and \n",
       "the country's largest city. Find out why Paris is called the City of Light and the City of Love.\n",
       "\n",
       "[Paris - Simple English Wikipedia, the free encyclopedia](https://simple.wikipedia.org/wiki/Paris)\n",
       "Paris is the capital city of France and the largest city in France. It has a rich history, many art museums, \n",
       "historical buildings, and a famous landmark, the Eiffel Tower.\n",
       "\n",
       "[What is the Capital of France? - Mappr](https://www.mappr.co/capital-cities/france/)\n",
       "Learn about Paris, the capital of France, and its rich history, culture, and geography. Discover its landmarks, \n",
       "climate, population, and role as a global city.\n",
       "\n",
       "[Paris - Wikiwand](https://www.wikiwand.com/en/articles/Paris)\n",
       "The City of Paris is the centre of the Île-de-France region, or Paris Region, with an official estimated population\n",
       "of 12,271,794 inhabitants in January 2023, or about 19% of the population of France. [3] The Paris Region had a \n",
       "nominal GDP of €765 billion (US$1.064 trillion when adjusted for PPP) [7] in 2021, the highest in the European \n",
       "Union. [8] ...\n",
       "\n",
       "[Paris, Capital city of France - The World Countries](https://theworldcountries.com/geo/capital-city/Paris)\n",
       "Paris (French pronunciation: [paʁi] ) is the capital and largest city of France. With an estimated population of \n",
       "2,048,472 residents in January 2025 in an area of more than 105 km2 (41 sq mi), Paris is the fourth-most populous \n",
       "city in the European Union and the 30th most densely populated city in the world in 2022.\n",
       "\n",
       "[List of world capitals by countries - Countries of the \n",
       "world](https://www.countries-ofthe-world.com/capitals-of-the-world.html)\n",
       "As the capital cities of their countries, these 197 towns differ in terms of safety, prices, health care, \n",
       "pollutions level, and other conditions, these all are called the quality of life. What is the best place to live? \n",
       "The world's number one place for living is Australian capital Canberra, followed by the Canadian Ottawa.\n",
       "\n",
       "[Paris, France - New World Encyclopedia](https://www.newworldencyclopedia.org/entry/Paris,_France)\n",
       "Learn about the history, culture, and attractions of Paris, the capital city of France, situated on the River \n",
       "Seine. Find out how Paris got its name, its role in the French Revolution, and its status as a global city.\n",
       "\n",
       "[Paris the Capital City of France - \n",
       "placesinfrance.com](https://www.placesinfrance.com/paris_capital_france_facts.html)\n",
       "Learn about the history, culture, and attractions of Paris, the capital city of France, on the River Seine. Find \n",
       "out its nicknames, population, economy, and tourism statistics.\n",
       "\n",
       "<span style=\"color: #d4b702; text-decoration-color: #d4b702; font-weight: bold\">Out - Final answer: ## Search Results</span>\n",
       "\n",
       "<span style=\"color: #d4b702; text-decoration-color: #d4b702; font-weight: bold\">[Paris - Wikipedia](https://en.wikipedia.org/wiki/Paris)</span>\n",
       "<span style=\"color: #d4b702; text-decoration-color: #d4b702; font-weight: bold\">Paris (French pronunciation: ⓘ) is the capital and largest city of France.With an estimated population of 2,048,472</span>\n",
       "<span style=\"color: #d4b702; text-decoration-color: #d4b702; font-weight: bold\">residents in January 2025 [3] in an area of more than 105 km 2 (41 sq mi), [4] Paris is the fourth-most populous </span>\n",
       "<span style=\"color: #d4b702; text-decoration-color: #d4b702; font-weight: bold\">city in the European Union and the 30th most densely populated city in the world in 2022. [5] Since the 17th </span>\n",
       "<span style=\"color: #d4b702; text-decoration-color: #d4b702; font-weight: bold\">century, Paris has been one of the world's major centres ...</span>\n",
       "\n",
       "<span style=\"color: #d4b702; text-decoration-color: #d4b702; font-weight: bold\">[Paris | Definition, Map, Population, Facts, &amp; History | Britannica](https://www.britannica.com/place/Paris)</span>\n",
       "<span style=\"color: #d4b702; text-decoration-color: #d4b702; font-weight: bold\">Paris, city and capital of France, located along the Seine River, in the north-central part of the country. Paris </span>\n",
       "<span style=\"color: #d4b702; text-decoration-color: #d4b702; font-weight: bold\">is one of the world's most important and attractive cities, famed for its gastronomy, haute couture, painting, </span>\n",
       "<span style=\"color: #d4b702; text-decoration-color: #d4b702; font-weight: bold\">literature, and intellectual community. Learn more about Paris in this article.</span>\n",
       "\n",
       "<span style=\"color: #d4b702; text-decoration-color: #d4b702; font-weight: bold\">[What is the Capital of France? - </span>\n",
       "<span style=\"color: #d4b702; text-decoration-color: #d4b702; font-weight: bold\">WorldAtlas](https://www.worldatlas.com/articles/what-is-the-capital-of-france.html)</span>\n",
       "<span style=\"color: #d4b702; text-decoration-color: #d4b702; font-weight: bold\">Learn about the history, geography, economy, tourism, and administration of Paris, the capital city of France and </span>\n",
       "<span style=\"color: #d4b702; text-decoration-color: #d4b702; font-weight: bold\">the country's largest city. Find out why Paris is called the City of Light and the City of Love.</span>\n",
       "\n",
       "<span style=\"color: #d4b702; text-decoration-color: #d4b702; font-weight: bold\">[Paris - Simple English Wikipedia, the free encyclopedia](https://simple.wikipedia.org/wiki/Paris)</span>\n",
       "<span style=\"color: #d4b702; text-decoration-color: #d4b702; font-weight: bold\">Paris is the capital city of France and the largest city in France. It has a rich history, many art museums, </span>\n",
       "<span style=\"color: #d4b702; text-decoration-color: #d4b702; font-weight: bold\">historical buildings, and a famous landmark, the Eiffel Tower.</span>\n",
       "\n",
       "<span style=\"color: #d4b702; text-decoration-color: #d4b702; font-weight: bold\">[What is the Capital of France? - Mappr](https://www.mappr.co/capital-cities/france/)</span>\n",
       "<span style=\"color: #d4b702; text-decoration-color: #d4b702; font-weight: bold\">Learn about Paris, the capital of France, and its rich history, culture, and geography. Discover its landmarks, </span>\n",
       "<span style=\"color: #d4b702; text-decoration-color: #d4b702; font-weight: bold\">climate, population, and role as a global city.</span>\n",
       "\n",
       "<span style=\"color: #d4b702; text-decoration-color: #d4b702; font-weight: bold\">[Paris - Wikiwand](https://www.wikiwand.com/en/articles/Paris)</span>\n",
       "<span style=\"color: #d4b702; text-decoration-color: #d4b702; font-weight: bold\">The City of Paris is the centre of the Île-de-France region, or Paris Region, with an official estimated population</span>\n",
       "<span style=\"color: #d4b702; text-decoration-color: #d4b702; font-weight: bold\">of 12,271,794 inhabitants in January 2023, or about 19% of the population of France. [3] The Paris Region had a </span>\n",
       "<span style=\"color: #d4b702; text-decoration-color: #d4b702; font-weight: bold\">nominal GDP of €765 billion (US$1.064 trillion when adjusted for PPP) [7] in 2021, the highest in the European </span>\n",
       "<span style=\"color: #d4b702; text-decoration-color: #d4b702; font-weight: bold\">Union. [8] ...</span>\n",
       "\n",
       "<span style=\"color: #d4b702; text-decoration-color: #d4b702; font-weight: bold\">[Paris, Capital city of France - The World Countries](https://theworldcountries.com/geo/capital-city/Paris)</span>\n",
       "<span style=\"color: #d4b702; text-decoration-color: #d4b702; font-weight: bold\">Paris (French pronunciation: [paʁi] ) is the capital and largest city of France. With an estimated population of </span>\n",
       "<span style=\"color: #d4b702; text-decoration-color: #d4b702; font-weight: bold\">2,048,472 residents in January 2025 in an area of more than 105 km2 (41 sq mi), Paris is the fourth-most populous </span>\n",
       "<span style=\"color: #d4b702; text-decoration-color: #d4b702; font-weight: bold\">city in the European Union and the 30th most densely populated city in the world in 2022.</span>\n",
       "\n",
       "<span style=\"color: #d4b702; text-decoration-color: #d4b702; font-weight: bold\">[List of world capitals by countries - Countries of the </span>\n",
       "<span style=\"color: #d4b702; text-decoration-color: #d4b702; font-weight: bold\">world](https://www.countries-ofthe-world.com/capitals-of-the-world.html)</span>\n",
       "<span style=\"color: #d4b702; text-decoration-color: #d4b702; font-weight: bold\">As the capital cities of their countries, these 197 towns differ in terms of safety, prices, health care, </span>\n",
       "<span style=\"color: #d4b702; text-decoration-color: #d4b702; font-weight: bold\">pollutions level, and other conditions, these all are called the quality of life. What is the best place to live? </span>\n",
       "<span style=\"color: #d4b702; text-decoration-color: #d4b702; font-weight: bold\">The world's number one place for living is Australian capital Canberra, followed by the Canadian Ottawa.</span>\n",
       "\n",
       "<span style=\"color: #d4b702; text-decoration-color: #d4b702; font-weight: bold\">[Paris, France - New World Encyclopedia](https://www.newworldencyclopedia.org/entry/Paris,_France)</span>\n",
       "<span style=\"color: #d4b702; text-decoration-color: #d4b702; font-weight: bold\">Learn about the history, culture, and attractions of Paris, the capital city of France, situated on the River </span>\n",
       "<span style=\"color: #d4b702; text-decoration-color: #d4b702; font-weight: bold\">Seine. Find out how Paris got its name, its role in the French Revolution, and its status as a global city.</span>\n",
       "\n",
       "<span style=\"color: #d4b702; text-decoration-color: #d4b702; font-weight: bold\">[Paris the Capital City of France - </span>\n",
       "<span style=\"color: #d4b702; text-decoration-color: #d4b702; font-weight: bold\">placesinfrance.com](https://www.placesinfrance.com/paris_capital_france_facts.html)</span>\n",
       "<span style=\"color: #d4b702; text-decoration-color: #d4b702; font-weight: bold\">Learn about the history, culture, and attractions of Paris, the capital city of France, on the River Seine. Find </span>\n",
       "<span style=\"color: #d4b702; text-decoration-color: #d4b702; font-weight: bold\">out its nicknames, population, economy, and tourism statistics.</span>\n",
       "</pre>\n"
      ],
      "text/plain": [
       "\u001b[1mExecution logs:\u001b[0m\n",
       "Capital city of France: ## Search Results\n",
       "\n",
       "[Paris - Wikipedia](https://en.wikipedia.org/wiki/Paris)\n",
       "Paris (French pronunciation: ⓘ) is the capital and largest city of France.With an estimated population of 2,048,472\n",
       "residents in January 2025 [3] in an area of more than 105 km 2 (41 sq mi), [4] Paris is the fourth-most populous \n",
       "city in the European Union and the 30th most densely populated city in the world in 2022. [5] Since the 17th \n",
       "century, Paris has been one of the world's major centres ...\n",
       "\n",
       "[Paris | Definition, Map, Population, Facts, & History | Britannica](https://www.britannica.com/place/Paris)\n",
       "Paris, city and capital of France, located along the Seine River, in the north-central part of the country. Paris \n",
       "is one of the world's most important and attractive cities, famed for its gastronomy, haute couture, painting, \n",
       "literature, and intellectual community. Learn more about Paris in this article.\n",
       "\n",
       "[What is the Capital of France? - \n",
       "WorldAtlas](https://www.worldatlas.com/articles/what-is-the-capital-of-france.html)\n",
       "Learn about the history, geography, economy, tourism, and administration of Paris, the capital city of France and \n",
       "the country's largest city. Find out why Paris is called the City of Light and the City of Love.\n",
       "\n",
       "[Paris - Simple English Wikipedia, the free encyclopedia](https://simple.wikipedia.org/wiki/Paris)\n",
       "Paris is the capital city of France and the largest city in France. It has a rich history, many art museums, \n",
       "historical buildings, and a famous landmark, the Eiffel Tower.\n",
       "\n",
       "[What is the Capital of France? - Mappr](https://www.mappr.co/capital-cities/france/)\n",
       "Learn about Paris, the capital of France, and its rich history, culture, and geography. Discover its landmarks, \n",
       "climate, population, and role as a global city.\n",
       "\n",
       "[Paris - Wikiwand](https://www.wikiwand.com/en/articles/Paris)\n",
       "The City of Paris is the centre of the Île-de-France region, or Paris Region, with an official estimated population\n",
       "of 12,271,794 inhabitants in January 2023, or about 19% of the population of France. [3] The Paris Region had a \n",
       "nominal GDP of €765 billion (US$1.064 trillion when adjusted for PPP) [7] in 2021, the highest in the European \n",
       "Union. [8] ...\n",
       "\n",
       "[Paris, Capital city of France - The World Countries](https://theworldcountries.com/geo/capital-city/Paris)\n",
       "Paris (French pronunciation: [paʁi] ) is the capital and largest city of France. With an estimated population of \n",
       "2,048,472 residents in January 2025 in an area of more than 105 km2 (41 sq mi), Paris is the fourth-most populous \n",
       "city in the European Union and the 30th most densely populated city in the world in 2022.\n",
       "\n",
       "[List of world capitals by countries - Countries of the \n",
       "world](https://www.countries-ofthe-world.com/capitals-of-the-world.html)\n",
       "As the capital cities of their countries, these 197 towns differ in terms of safety, prices, health care, \n",
       "pollutions level, and other conditions, these all are called the quality of life. What is the best place to live? \n",
       "The world's number one place for living is Australian capital Canberra, followed by the Canadian Ottawa.\n",
       "\n",
       "[Paris, France - New World Encyclopedia](https://www.newworldencyclopedia.org/entry/Paris,_France)\n",
       "Learn about the history, culture, and attractions of Paris, the capital city of France, situated on the River \n",
       "Seine. Find out how Paris got its name, its role in the French Revolution, and its status as a global city.\n",
       "\n",
       "[Paris the Capital City of France - \n",
       "placesinfrance.com](https://www.placesinfrance.com/paris_capital_france_facts.html)\n",
       "Learn about the history, culture, and attractions of Paris, the capital city of France, on the River Seine. Find \n",
       "out its nicknames, population, economy, and tourism statistics.\n",
       "\n",
       "\u001b[1;38;2;212;183;2mOut - Final answer: ## Search Results\u001b[0m\n",
       "\n",
       "\u001b[1;38;2;212;183;2m[Paris - Wikipedia](https://en.wikipedia.org/wiki/Paris)\u001b[0m\n",
       "\u001b[1;38;2;212;183;2mParis (French pronunciation: ⓘ) is the capital and largest city of France.With an estimated population of 2,048,472\u001b[0m\n",
       "\u001b[1;38;2;212;183;2mresidents in January 2025 [3] in an area of more than 105 km 2 (41 sq mi), [4] Paris is the fourth-most populous \u001b[0m\n",
       "\u001b[1;38;2;212;183;2mcity in the European Union and the 30th most densely populated city in the world in 2022. [5] Since the 17th \u001b[0m\n",
       "\u001b[1;38;2;212;183;2mcentury, Paris has been one of the world's major centres ...\u001b[0m\n",
       "\n",
       "\u001b[1;38;2;212;183;2m[Paris | Definition, Map, Population, Facts, & History | Britannica](https://www.britannica.com/place/Paris)\u001b[0m\n",
       "\u001b[1;38;2;212;183;2mParis, city and capital of France, located along the Seine River, in the north-central part of the country. Paris \u001b[0m\n",
       "\u001b[1;38;2;212;183;2mis one of the world's most important and attractive cities, famed for its gastronomy, haute couture, painting, \u001b[0m\n",
       "\u001b[1;38;2;212;183;2mliterature, and intellectual community. Learn more about Paris in this article.\u001b[0m\n",
       "\n",
       "\u001b[1;38;2;212;183;2m[What is the Capital of France? - \u001b[0m\n",
       "\u001b[1;38;2;212;183;2mWorldAtlas](https://www.worldatlas.com/articles/what-is-the-capital-of-france.html)\u001b[0m\n",
       "\u001b[1;38;2;212;183;2mLearn about the history, geography, economy, tourism, and administration of Paris, the capital city of France and \u001b[0m\n",
       "\u001b[1;38;2;212;183;2mthe country's largest city. Find out why Paris is called the City of Light and the City of Love.\u001b[0m\n",
       "\n",
       "\u001b[1;38;2;212;183;2m[Paris - Simple English Wikipedia, the free encyclopedia](https://simple.wikipedia.org/wiki/Paris)\u001b[0m\n",
       "\u001b[1;38;2;212;183;2mParis is the capital city of France and the largest city in France. It has a rich history, many art museums, \u001b[0m\n",
       "\u001b[1;38;2;212;183;2mhistorical buildings, and a famous landmark, the Eiffel Tower.\u001b[0m\n",
       "\n",
       "\u001b[1;38;2;212;183;2m[What is the Capital of France? - Mappr](https://www.mappr.co/capital-cities/france/)\u001b[0m\n",
       "\u001b[1;38;2;212;183;2mLearn about Paris, the capital of France, and its rich history, culture, and geography. Discover its landmarks, \u001b[0m\n",
       "\u001b[1;38;2;212;183;2mclimate, population, and role as a global city.\u001b[0m\n",
       "\n",
       "\u001b[1;38;2;212;183;2m[Paris - Wikiwand](https://www.wikiwand.com/en/articles/Paris)\u001b[0m\n",
       "\u001b[1;38;2;212;183;2mThe City of Paris is the centre of the Île-de-France region, or Paris Region, with an official estimated population\u001b[0m\n",
       "\u001b[1;38;2;212;183;2mof 12,271,794 inhabitants in January 2023, or about 19% of the population of France. [3] The Paris Region had a \u001b[0m\n",
       "\u001b[1;38;2;212;183;2mnominal GDP of €765 billion (US$1.064 trillion when adjusted for PPP) [7] in 2021, the highest in the European \u001b[0m\n",
       "\u001b[1;38;2;212;183;2mUnion. [8] ...\u001b[0m\n",
       "\n",
       "\u001b[1;38;2;212;183;2m[Paris, Capital city of France - The World Countries](https://theworldcountries.com/geo/capital-city/Paris)\u001b[0m\n",
       "\u001b[1;38;2;212;183;2mParis (French pronunciation: [paʁi] ) is the capital and largest city of France. With an estimated population of \u001b[0m\n",
       "\u001b[1;38;2;212;183;2m2,048,472 residents in January 2025 in an area of more than 105 km2 (41 sq mi), Paris is the fourth-most populous \u001b[0m\n",
       "\u001b[1;38;2;212;183;2mcity in the European Union and the 30th most densely populated city in the world in 2022.\u001b[0m\n",
       "\n",
       "\u001b[1;38;2;212;183;2m[List of world capitals by countries - Countries of the \u001b[0m\n",
       "\u001b[1;38;2;212;183;2mworld](https://www.countries-ofthe-world.com/capitals-of-the-world.html)\u001b[0m\n",
       "\u001b[1;38;2;212;183;2mAs the capital cities of their countries, these 197 towns differ in terms of safety, prices, health care, \u001b[0m\n",
       "\u001b[1;38;2;212;183;2mpollutions level, and other conditions, these all are called the quality of life. What is the best place to live? \u001b[0m\n",
       "\u001b[1;38;2;212;183;2mThe world's number one place for living is Australian capital Canberra, followed by the Canadian Ottawa.\u001b[0m\n",
       "\n",
       "\u001b[1;38;2;212;183;2m[Paris, France - New World Encyclopedia](https://www.newworldencyclopedia.org/entry/Paris,_France)\u001b[0m\n",
       "\u001b[1;38;2;212;183;2mLearn about the history, culture, and attractions of Paris, the capital city of France, situated on the River \u001b[0m\n",
       "\u001b[1;38;2;212;183;2mSeine. Find out how Paris got its name, its role in the French Revolution, and its status as a global city.\u001b[0m\n",
       "\n",
       "\u001b[1;38;2;212;183;2m[Paris the Capital City of France - \u001b[0m\n",
       "\u001b[1;38;2;212;183;2mplacesinfrance.com](https://www.placesinfrance.com/paris_capital_france_facts.html)\u001b[0m\n",
       "\u001b[1;38;2;212;183;2mLearn about the history, culture, and attractions of Paris, the capital city of France, on the River Seine. Find \u001b[0m\n",
       "\u001b[1;38;2;212;183;2mout its nicknames, population, economy, and tourism statistics.\u001b[0m\n"
      ]
     },
     "metadata": {},
     "output_type": "display_data"
    },
    {
     "data": {
      "text/html": [
       "<pre style=\"white-space:pre;overflow-x:auto;line-height:normal;font-family:Menlo,'DejaVu Sans Mono',consolas,'Courier New',monospace\"><span style=\"color: #7f7f7f; text-decoration-color: #7f7f7f\">[Step 1: Duration 8.57 seconds| Input tokens: 2,139 | Output tokens: 56]</span>\n",
       "</pre>\n"
      ],
      "text/plain": [
       "\u001b[2m[Step 1: Duration 8.57 seconds| Input tokens: 2,139 | Output tokens: 56]\u001b[0m\n"
      ]
     },
     "metadata": {},
     "output_type": "display_data"
    },
    {
     "name": "stdout",
     "output_type": "stream",
     "text": [
      "## Search Results\n",
      "\n",
      "[Paris - Wikipedia](https://en.wikipedia.org/wiki/Paris)\n",
      "Paris (French pronunciation: ⓘ) is the capital and largest city of France.With an estimated population of 2,048,472 residents in January 2025 [3] in an area of more than 105 km 2 (41 sq mi), [4] Paris is the fourth-most populous city in the European Union and the 30th most densely populated city in the world in 2022. [5] Since the 17th century, Paris has been one of the world's major centres ...\n",
      "\n",
      "[Paris | Definition, Map, Population, Facts, & History | Britannica](https://www.britannica.com/place/Paris)\n",
      "Paris, city and capital of France, located along the Seine River, in the north-central part of the country. Paris is one of the world's most important and attractive cities, famed for its gastronomy, haute couture, painting, literature, and intellectual community. Learn more about Paris in this article.\n",
      "\n",
      "[What is the Capital of France? - WorldAtlas](https://www.worldatlas.com/articles/what-is-the-capital-of-france.html)\n",
      "Learn about the history, geography, economy, tourism, and administration of Paris, the capital city of France and the country's largest city. Find out why Paris is called the City of Light and the City of Love.\n",
      "\n",
      "[Paris - Simple English Wikipedia, the free encyclopedia](https://simple.wikipedia.org/wiki/Paris)\n",
      "Paris is the capital city of France and the largest city in France. It has a rich history, many art museums, historical buildings, and a famous landmark, the Eiffel Tower.\n",
      "\n",
      "[What is the Capital of France? - Mappr](https://www.mappr.co/capital-cities/france/)\n",
      "Learn about Paris, the capital of France, and its rich history, culture, and geography. Discover its landmarks, climate, population, and role as a global city.\n",
      "\n",
      "[Paris - Wikiwand](https://www.wikiwand.com/en/articles/Paris)\n",
      "The City of Paris is the centre of the Île-de-France region, or Paris Region, with an official estimated population of 12,271,794 inhabitants in January 2023, or about 19% of the population of France. [3] The Paris Region had a nominal GDP of €765 billion (US$1.064 trillion when adjusted for PPP) [7] in 2021, the highest in the European Union. [8] ...\n",
      "\n",
      "[Paris, Capital city of France - The World Countries](https://theworldcountries.com/geo/capital-city/Paris)\n",
      "Paris (French pronunciation: [paʁi] ) is the capital and largest city of France. With an estimated population of 2,048,472 residents in January 2025 in an area of more than 105 km2 (41 sq mi), Paris is the fourth-most populous city in the European Union and the 30th most densely populated city in the world in 2022.\n",
      "\n",
      "[List of world capitals by countries - Countries of the world](https://www.countries-ofthe-world.com/capitals-of-the-world.html)\n",
      "As the capital cities of their countries, these 197 towns differ in terms of safety, prices, health care, pollutions level, and other conditions, these all are called the quality of life. What is the best place to live? The world's number one place for living is Australian capital Canberra, followed by the Canadian Ottawa.\n",
      "\n",
      "[Paris, France - New World Encyclopedia](https://www.newworldencyclopedia.org/entry/Paris,_France)\n",
      "Learn about the history, culture, and attractions of Paris, the capital city of France, situated on the River Seine. Find out how Paris got its name, its role in the French Revolution, and its status as a global city.\n",
      "\n",
      "[Paris the Capital City of France - placesinfrance.com](https://www.placesinfrance.com/paris_capital_france_facts.html)\n",
      "Learn about the history, culture, and attractions of Paris, the capital city of France, on the River Seine. Find out its nicknames, population, economy, and tourism statistics.\n"
     ]
    }
   ],
   "source": [
    "output = agent.run(\n",
    "    \"The capital of France is\"\n",
    ")\n",
    "print(output)"
   ]
  },
  {
   "cell_type": "code",
   "execution_count": 10,
   "metadata": {},
   "outputs": [
    {
     "data": {
      "text/html": [
       "<pre style=\"white-space:pre;overflow-x:auto;line-height:normal;font-family:Menlo,'DejaVu Sans Mono',consolas,'Courier New',monospace\"><span style=\"color: #d4b702; text-decoration-color: #d4b702\">╭──────────────────────────────────────────────────── </span><span style=\"color: #d4b702; text-decoration-color: #d4b702; font-weight: bold\">New run</span><span style=\"color: #d4b702; text-decoration-color: #d4b702\"> ────────────────────────────────────────────────────╮</span>\n",
       "<span style=\"color: #d4b702; text-decoration-color: #d4b702\">│</span>                                                                                                                 <span style=\"color: #d4b702; text-decoration-color: #d4b702\">│</span>\n",
       "<span style=\"color: #d4b702; text-decoration-color: #d4b702\">│</span> <span style=\"font-weight: bold\">&lt;|begin_of_text|&gt;&lt;|start_header_id|&gt;user&lt;|end_header_id|&gt;</span>                                                       <span style=\"color: #d4b702; text-decoration-color: #d4b702\">│</span>\n",
       "<span style=\"color: #d4b702; text-decoration-color: #d4b702\">│</span>                                                                                                                 <span style=\"color: #d4b702; text-decoration-color: #d4b702\">│</span>\n",
       "<span style=\"color: #d4b702; text-decoration-color: #d4b702\">│</span> <span style=\"font-weight: bold\">The capital of france is&lt;|eot_id|&gt;&lt;|start_header_id|&gt;assistant&lt;|end_header_id|&gt;</span>                                 <span style=\"color: #d4b702; text-decoration-color: #d4b702\">│</span>\n",
       "<span style=\"color: #d4b702; text-decoration-color: #d4b702\">│</span>                                                                                                                 <span style=\"color: #d4b702; text-decoration-color: #d4b702\">│</span>\n",
       "<span style=\"color: #d4b702; text-decoration-color: #d4b702\">╰─ LiteLLMModel - ollama_chat/qwen2.5-coder:3b ───────────────────────────────────────────────────────────────────╯</span>\n",
       "</pre>\n"
      ],
      "text/plain": [
       "\u001b[38;2;212;183;2m╭─\u001b[0m\u001b[38;2;212;183;2m───────────────────────────────────────────────────\u001b[0m\u001b[38;2;212;183;2m \u001b[0m\u001b[1;38;2;212;183;2mNew run\u001b[0m\u001b[38;2;212;183;2m \u001b[0m\u001b[38;2;212;183;2m───────────────────────────────────────────────────\u001b[0m\u001b[38;2;212;183;2m─╮\u001b[0m\n",
       "\u001b[38;2;212;183;2m│\u001b[0m                                                                                                                 \u001b[38;2;212;183;2m│\u001b[0m\n",
       "\u001b[38;2;212;183;2m│\u001b[0m \u001b[1m<|begin_of_text|><|start_header_id|>user<|end_header_id|>\u001b[0m                                                       \u001b[38;2;212;183;2m│\u001b[0m\n",
       "\u001b[38;2;212;183;2m│\u001b[0m                                                                                                                 \u001b[38;2;212;183;2m│\u001b[0m\n",
       "\u001b[38;2;212;183;2m│\u001b[0m \u001b[1mThe capital of france is<|eot_id|><|start_header_id|>assistant<|end_header_id|>\u001b[0m                                 \u001b[38;2;212;183;2m│\u001b[0m\n",
       "\u001b[38;2;212;183;2m│\u001b[0m                                                                                                                 \u001b[38;2;212;183;2m│\u001b[0m\n",
       "\u001b[38;2;212;183;2m╰─\u001b[0m\u001b[38;2;212;183;2m LiteLLMModel - ollama_chat/qwen2.5-coder:3b \u001b[0m\u001b[38;2;212;183;2m──────────────────────────────────────────────────────────────────\u001b[0m\u001b[38;2;212;183;2m─╯\u001b[0m\n"
      ]
     },
     "metadata": {},
     "output_type": "display_data"
    },
    {
     "data": {
      "text/html": [
       "<pre style=\"white-space:pre;overflow-x:auto;line-height:normal;font-family:Menlo,'DejaVu Sans Mono',consolas,'Courier New',monospace\"><span style=\"color: #d4b702; text-decoration-color: #d4b702\">━━━━━━━━━━━━━━━━━━━━━━━━━━━━━━━━━━━━━━━━━━━━━━━━━━━━━ </span><span style=\"font-weight: bold\">Step </span><span style=\"color: #008080; text-decoration-color: #008080; font-weight: bold\">1</span><span style=\"color: #d4b702; text-decoration-color: #d4b702\"> ━━━━━━━━━━━━━━━━━━━━━━━━━━━━━━━━━━━━━━━━━━━━━━━━━━━━━━</span>\n",
       "</pre>\n"
      ],
      "text/plain": [
       "\u001b[38;2;212;183;2m━━━━━━━━━━━━━━━━━━━━━━━━━━━━━━━━━━━━━━━━━━━━━━━━━━━━━ \u001b[0m\u001b[1mStep \u001b[0m\u001b[1;36m1\u001b[0m\u001b[38;2;212;183;2m ━━━━━━━━━━━━━━━━━━━━━━━━━━━━━━━━━━━━━━━━━━━━━━━━━━━━━━\u001b[0m\n"
      ]
     },
     "metadata": {},
     "output_type": "display_data"
    },
    {
     "data": {
      "text/html": [
       "<pre style=\"white-space:pre;overflow-x:auto;line-height:normal;font-family:Menlo,'DejaVu Sans Mono',consolas,'Courier New',monospace\"> ─ <span style=\"font-weight: bold\">Executing parsed code:</span> ──────────────────────────────────────────────────────────────────────────────────────── \n",
       "  <span style=\"color: #f8f8f2; text-decoration-color: #f8f8f2; background-color: #272822\">capital_city </span><span style=\"color: #ff4689; text-decoration-color: #ff4689; background-color: #272822\">=</span><span style=\"color: #f8f8f2; text-decoration-color: #f8f8f2; background-color: #272822\"> web_search(query</span><span style=\"color: #ff4689; text-decoration-color: #ff4689; background-color: #272822\">=</span><span style=\"color: #e6db74; text-decoration-color: #e6db74; background-color: #272822\">\"capital of france\"</span><span style=\"color: #f8f8f2; text-decoration-color: #f8f8f2; background-color: #272822\">)</span><span style=\"background-color: #272822\">                                                           </span>  \n",
       "  <span style=\"color: #f8f8f2; text-decoration-color: #f8f8f2; background-color: #272822\">print(capital_city)</span><span style=\"background-color: #272822\">                                                                                            </span>  \n",
       " ───────────────────────────────────────────────────────────────────────────────────────────────────────────────── \n",
       "</pre>\n"
      ],
      "text/plain": [
       " ─ \u001b[1mExecuting parsed code:\u001b[0m ──────────────────────────────────────────────────────────────────────────────────────── \n",
       "  \u001b[38;2;248;248;242;48;2;39;40;34mcapital_city\u001b[0m\u001b[38;2;248;248;242;48;2;39;40;34m \u001b[0m\u001b[38;2;255;70;137;48;2;39;40;34m=\u001b[0m\u001b[38;2;248;248;242;48;2;39;40;34m \u001b[0m\u001b[38;2;248;248;242;48;2;39;40;34mweb_search\u001b[0m\u001b[38;2;248;248;242;48;2;39;40;34m(\u001b[0m\u001b[38;2;248;248;242;48;2;39;40;34mquery\u001b[0m\u001b[38;2;255;70;137;48;2;39;40;34m=\u001b[0m\u001b[38;2;230;219;116;48;2;39;40;34m\"\u001b[0m\u001b[38;2;230;219;116;48;2;39;40;34mcapital of france\u001b[0m\u001b[38;2;230;219;116;48;2;39;40;34m\"\u001b[0m\u001b[38;2;248;248;242;48;2;39;40;34m)\u001b[0m\u001b[48;2;39;40;34m                                                           \u001b[0m  \n",
       "  \u001b[38;2;248;248;242;48;2;39;40;34mprint\u001b[0m\u001b[38;2;248;248;242;48;2;39;40;34m(\u001b[0m\u001b[38;2;248;248;242;48;2;39;40;34mcapital_city\u001b[0m\u001b[38;2;248;248;242;48;2;39;40;34m)\u001b[0m\u001b[48;2;39;40;34m                                                                                            \u001b[0m  \n",
       " ───────────────────────────────────────────────────────────────────────────────────────────────────────────────── \n"
      ]
     },
     "metadata": {},
     "output_type": "display_data"
    },
    {
     "data": {
      "text/html": [
       "<pre style=\"white-space:pre;overflow-x:auto;line-height:normal;font-family:Menlo,'DejaVu Sans Mono',consolas,'Courier New',monospace\"><span style=\"font-weight: bold\">Execution logs:</span>\n",
       "## Search Results\n",
       "\n",
       "[Paris - Wikipedia](https://en.wikipedia.org/wiki/Paris)\n",
       "Paris (French pronunciation: ⓘ) is the capital and largest city of France.With an estimated population of 2,048,472\n",
       "residents in January 2025 [3] in an area of more than 105 km 2 (41 sq mi), [4] Paris is the fourth-most populous \n",
       "city in the European Union and the 30th most densely populated city in the world in 2022. [5] Since the 17th \n",
       "century, Paris has been one of the world's major centres ...\n",
       "\n",
       "[Paris | Definition, Map, Population, Facts, &amp; History | Britannica](https://www.britannica.com/place/Paris)\n",
       "Paris, city and capital of France, located along the Seine River, in the north-central part of the country. Paris \n",
       "is one of the world's most important and attractive cities, famed for its gastronomy, haute couture, painting, \n",
       "literature, and intellectual community. Learn more about Paris in this article.\n",
       "\n",
       "[What is the Capital of France? - \n",
       "WorldAtlas](https://www.worldatlas.com/articles/what-is-the-capital-of-france.html)\n",
       "Learn about the history, geography, economy, tourism, and administration of Paris, the capital city of France and \n",
       "the country's largest city. Find out why Paris is called the City of Light and the City of Love.\n",
       "\n",
       "[Paris - Simple English Wikipedia, the free encyclopedia](https://simple.wikipedia.org/wiki/Paris)\n",
       "Paris is the capital city and the largest city of France, with a population of about 2.15 million. It has a rich \n",
       "history, many art museums, historical buildings, and a famous landmark, the Eiffel Tower.\n",
       "\n",
       "[What is the Capital of France? - Mappr](https://www.mappr.co/capital-cities/france/)\n",
       "Learn about Paris, the capital of France, and its rich history, culture, and geography. Discover its landmarks, \n",
       "climate, population, and role as a global city.\n",
       "\n",
       "[Paris, France - New World Encyclopedia](https://www.newworldencyclopedia.org/entry/Paris,_France)\n",
       "Learn about the history, culture, and attractions of Paris, the capital city of France and one of the world's \n",
       "leading global cities. Find out how Paris got its name, its role in the French Revolution, and its famous landmarks\n",
       "such as the Eiffel Tower and the Louvre.\n",
       "\n",
       "[Paris - Wikiwand](https://www.wikiwand.com/en/articles/Paris)\n",
       "The Palais de la Cité and Sainte-Chapelle, viewed from the Left Bank, from the Très Riches Heures du duc de Berry \n",
       "(month of June) (1410). By the end of the 12th century, Paris had become the political, economic, religious, and \n",
       "cultural capital of France. [33] The Palais de la Cité, the royal residence, was located at the western end of the \n",
       "Île de la Cité.\n",
       "\n",
       "[Paris, Capital city of France - The World Countries](https://theworldcountries.com/geo/capital-city/Paris)\n",
       "Paris (French pronunciation: [paʁi] ) is the capital and largest city of France. With an estimated population of \n",
       "2,048,472 residents in January 2025 in an area of more than 105 km2 (41 sq mi), Paris is the fourth-most populous \n",
       "city in the European Union and the 30th most densely populated city in the world in 2022.\n",
       "\n",
       "[What is the Capital of France? - CountryReports](https://www.countryreports.org/country/france/capital-city.htm)\n",
       "Learn about the capital city of France, Paris, its history, location, time zone and weather. See a map of France \n",
       "and its regions with different time differences.\n",
       "\n",
       "[What is the Capital of France? Paris - Countryaah.com](https://www.countryaah.com/france-faqs/)\n",
       "Learn about Paris, the capital city of France, and its rich history, culture, and climate. Discover its famous \n",
       "landmarks, such as the Eiffel Tower, the Louvre, and Notre-Dame, and its transportation network and population.\n",
       "\n",
       "Out: None\n",
       "</pre>\n"
      ],
      "text/plain": [
       "\u001b[1mExecution logs:\u001b[0m\n",
       "## Search Results\n",
       "\n",
       "[Paris - Wikipedia](https://en.wikipedia.org/wiki/Paris)\n",
       "Paris (French pronunciation: ⓘ) is the capital and largest city of France.With an estimated population of 2,048,472\n",
       "residents in January 2025 [3] in an area of more than 105 km 2 (41 sq mi), [4] Paris is the fourth-most populous \n",
       "city in the European Union and the 30th most densely populated city in the world in 2022. [5] Since the 17th \n",
       "century, Paris has been one of the world's major centres ...\n",
       "\n",
       "[Paris | Definition, Map, Population, Facts, & History | Britannica](https://www.britannica.com/place/Paris)\n",
       "Paris, city and capital of France, located along the Seine River, in the north-central part of the country. Paris \n",
       "is one of the world's most important and attractive cities, famed for its gastronomy, haute couture, painting, \n",
       "literature, and intellectual community. Learn more about Paris in this article.\n",
       "\n",
       "[What is the Capital of France? - \n",
       "WorldAtlas](https://www.worldatlas.com/articles/what-is-the-capital-of-france.html)\n",
       "Learn about the history, geography, economy, tourism, and administration of Paris, the capital city of France and \n",
       "the country's largest city. Find out why Paris is called the City of Light and the City of Love.\n",
       "\n",
       "[Paris - Simple English Wikipedia, the free encyclopedia](https://simple.wikipedia.org/wiki/Paris)\n",
       "Paris is the capital city and the largest city of France, with a population of about 2.15 million. It has a rich \n",
       "history, many art museums, historical buildings, and a famous landmark, the Eiffel Tower.\n",
       "\n",
       "[What is the Capital of France? - Mappr](https://www.mappr.co/capital-cities/france/)\n",
       "Learn about Paris, the capital of France, and its rich history, culture, and geography. Discover its landmarks, \n",
       "climate, population, and role as a global city.\n",
       "\n",
       "[Paris, France - New World Encyclopedia](https://www.newworldencyclopedia.org/entry/Paris,_France)\n",
       "Learn about the history, culture, and attractions of Paris, the capital city of France and one of the world's \n",
       "leading global cities. Find out how Paris got its name, its role in the French Revolution, and its famous landmarks\n",
       "such as the Eiffel Tower and the Louvre.\n",
       "\n",
       "[Paris - Wikiwand](https://www.wikiwand.com/en/articles/Paris)\n",
       "The Palais de la Cité and Sainte-Chapelle, viewed from the Left Bank, from the Très Riches Heures du duc de Berry \n",
       "(month of June) (1410). By the end of the 12th century, Paris had become the political, economic, religious, and \n",
       "cultural capital of France. [33] The Palais de la Cité, the royal residence, was located at the western end of the \n",
       "Île de la Cité.\n",
       "\n",
       "[Paris, Capital city of France - The World Countries](https://theworldcountries.com/geo/capital-city/Paris)\n",
       "Paris (French pronunciation: [paʁi] ) is the capital and largest city of France. With an estimated population of \n",
       "2,048,472 residents in January 2025 in an area of more than 105 km2 (41 sq mi), Paris is the fourth-most populous \n",
       "city in the European Union and the 30th most densely populated city in the world in 2022.\n",
       "\n",
       "[What is the Capital of France? - CountryReports](https://www.countryreports.org/country/france/capital-city.htm)\n",
       "Learn about the capital city of France, Paris, its history, location, time zone and weather. See a map of France \n",
       "and its regions with different time differences.\n",
       "\n",
       "[What is the Capital of France? Paris - Countryaah.com](https://www.countryaah.com/france-faqs/)\n",
       "Learn about Paris, the capital city of France, and its rich history, culture, and climate. Discover its famous \n",
       "landmarks, such as the Eiffel Tower, the Louvre, and Notre-Dame, and its transportation network and population.\n",
       "\n",
       "Out: None\n"
      ]
     },
     "metadata": {},
     "output_type": "display_data"
    },
    {
     "data": {
      "text/html": [
       "<pre style=\"white-space:pre;overflow-x:auto;line-height:normal;font-family:Menlo,'DejaVu Sans Mono',consolas,'Courier New',monospace\"><span style=\"color: #7f7f7f; text-decoration-color: #7f7f7f\">[Step 1: Duration 3.37 seconds| Input tokens: 2,181 | Output tokens: 50]</span>\n",
       "</pre>\n"
      ],
      "text/plain": [
       "\u001b[2m[Step 1: Duration 3.37 seconds| Input tokens: 2,181 | Output tokens: 50]\u001b[0m\n"
      ]
     },
     "metadata": {},
     "output_type": "display_data"
    },
    {
     "data": {
      "text/html": [
       "<pre style=\"white-space:pre;overflow-x:auto;line-height:normal;font-family:Menlo,'DejaVu Sans Mono',consolas,'Courier New',monospace\"><span style=\"color: #d4b702; text-decoration-color: #d4b702\">━━━━━━━━━━━━━━━━━━━━━━━━━━━━━━━━━━━━━━━━━━━━━━━━━━━━━ </span><span style=\"font-weight: bold\">Step </span><span style=\"color: #008080; text-decoration-color: #008080; font-weight: bold\">2</span><span style=\"color: #d4b702; text-decoration-color: #d4b702\"> ━━━━━━━━━━━━━━━━━━━━━━━━━━━━━━━━━━━━━━━━━━━━━━━━━━━━━━</span>\n",
       "</pre>\n"
      ],
      "text/plain": [
       "\u001b[38;2;212;183;2m━━━━━━━━━━━━━━━━━━━━━━━━━━━━━━━━━━━━━━━━━━━━━━━━━━━━━ \u001b[0m\u001b[1mStep \u001b[0m\u001b[1;36m2\u001b[0m\u001b[38;2;212;183;2m ━━━━━━━━━━━━━━━━━━━━━━━━━━━━━━━━━━━━━━━━━━━━━━━━━━━━━━\u001b[0m\n"
      ]
     },
     "metadata": {},
     "output_type": "display_data"
    },
    {
     "data": {
      "text/html": [
       "<pre style=\"white-space:pre;overflow-x:auto;line-height:normal;font-family:Menlo,'DejaVu Sans Mono',consolas,'Courier New',monospace\"> ─ <span style=\"font-weight: bold\">Executing parsed code:</span> ──────────────────────────────────────────────────────────────────────────────────────── \n",
       "  <span style=\"color: #f8f8f2; text-decoration-color: #f8f8f2; background-color: #272822\">final_answer(</span><span style=\"color: #e6db74; text-decoration-color: #e6db74; background-color: #272822\">\"Paris\"</span><span style=\"color: #f8f8f2; text-decoration-color: #f8f8f2; background-color: #272822\">)</span><span style=\"background-color: #272822\">                                                                                          </span>  \n",
       " ───────────────────────────────────────────────────────────────────────────────────────────────────────────────── \n",
       "</pre>\n"
      ],
      "text/plain": [
       " ─ \u001b[1mExecuting parsed code:\u001b[0m ──────────────────────────────────────────────────────────────────────────────────────── \n",
       "  \u001b[38;2;248;248;242;48;2;39;40;34mfinal_answer\u001b[0m\u001b[38;2;248;248;242;48;2;39;40;34m(\u001b[0m\u001b[38;2;230;219;116;48;2;39;40;34m\"\u001b[0m\u001b[38;2;230;219;116;48;2;39;40;34mParis\u001b[0m\u001b[38;2;230;219;116;48;2;39;40;34m\"\u001b[0m\u001b[38;2;248;248;242;48;2;39;40;34m)\u001b[0m\u001b[48;2;39;40;34m                                                                                          \u001b[0m  \n",
       " ───────────────────────────────────────────────────────────────────────────────────────────────────────────────── \n"
      ]
     },
     "metadata": {},
     "output_type": "display_data"
    },
    {
     "data": {
      "text/html": [
       "<pre style=\"white-space:pre;overflow-x:auto;line-height:normal;font-family:Menlo,'DejaVu Sans Mono',consolas,'Courier New',monospace\"><span style=\"color: #d4b702; text-decoration-color: #d4b702; font-weight: bold\">Out - Final answer: Paris</span>\n",
       "</pre>\n"
      ],
      "text/plain": [
       "\u001b[1;38;2;212;183;2mOut - Final answer: Paris\u001b[0m\n"
      ]
     },
     "metadata": {},
     "output_type": "display_data"
    },
    {
     "data": {
      "text/html": [
       "<pre style=\"white-space:pre;overflow-x:auto;line-height:normal;font-family:Menlo,'DejaVu Sans Mono',consolas,'Courier New',monospace\"><span style=\"color: #7f7f7f; text-decoration-color: #7f7f7f\">[Step 2: Duration 3.43 seconds| Input tokens: 5,383 | Output tokens: 86]</span>\n",
       "</pre>\n"
      ],
      "text/plain": [
       "\u001b[2m[Step 2: Duration 3.43 seconds| Input tokens: 5,383 | Output tokens: 86]\u001b[0m\n"
      ]
     },
     "metadata": {},
     "output_type": "display_data"
    },
    {
     "name": "stdout",
     "output_type": "stream",
     "text": [
      "Paris\n"
     ]
    }
   ],
   "source": [
    "prompt = \"\"\"<|begin_of_text|><|start_header_id|>user<|end_header_id|>\n",
    "\n",
    "The capital of france is<|eot_id|><|start_header_id|>assistant<|end_header_id|>\n",
    "\"\"\"\n",
    "output = agent.run(\n",
    "    prompt,\n",
    ")\n",
    "print(output)"
   ]
  },
  {
   "cell_type": "code",
   "execution_count": 11,
   "metadata": {},
   "outputs": [
    {
     "name": "stdout",
     "output_type": "stream",
     "text": [
      "The weather in London is sunny with temperatures around 25°C.\n"
     ]
    },
    {
     "data": {
      "text/html": [
       "<pre style=\"white-space:pre;overflow-x:auto;line-height:normal;font-family:Menlo,'DejaVu Sans Mono',consolas,'Courier New',monospace\"><span style=\"color: #d4b702; text-decoration-color: #d4b702\">╭──────────────────────────────────────────────────── </span><span style=\"color: #d4b702; text-decoration-color: #d4b702; font-weight: bold\">New run</span><span style=\"color: #d4b702; text-decoration-color: #d4b702\"> ────────────────────────────────────────────────────╮</span>\n",
       "<span style=\"color: #d4b702; text-decoration-color: #d4b702\">│</span>                                                                                                                 <span style=\"color: #d4b702; text-decoration-color: #d4b702\">│</span>\n",
       "<span style=\"color: #d4b702; text-decoration-color: #d4b702\">│</span> <span style=\"font-weight: bold\">what is the weather in london?</span>                                                                                  <span style=\"color: #d4b702; text-decoration-color: #d4b702\">│</span>\n",
       "<span style=\"color: #d4b702; text-decoration-color: #d4b702\">│</span>                                                                                                                 <span style=\"color: #d4b702; text-decoration-color: #d4b702\">│</span>\n",
       "<span style=\"color: #d4b702; text-decoration-color: #d4b702\">╰─ LiteLLMModel - ollama_chat/qwen2.5-coder:3b ───────────────────────────────────────────────────────────────────╯</span>\n",
       "</pre>\n"
      ],
      "text/plain": [
       "\u001b[38;2;212;183;2m╭─\u001b[0m\u001b[38;2;212;183;2m───────────────────────────────────────────────────\u001b[0m\u001b[38;2;212;183;2m \u001b[0m\u001b[1;38;2;212;183;2mNew run\u001b[0m\u001b[38;2;212;183;2m \u001b[0m\u001b[38;2;212;183;2m───────────────────────────────────────────────────\u001b[0m\u001b[38;2;212;183;2m─╮\u001b[0m\n",
       "\u001b[38;2;212;183;2m│\u001b[0m                                                                                                                 \u001b[38;2;212;183;2m│\u001b[0m\n",
       "\u001b[38;2;212;183;2m│\u001b[0m \u001b[1mwhat is the weather in london?\u001b[0m                                                                                  \u001b[38;2;212;183;2m│\u001b[0m\n",
       "\u001b[38;2;212;183;2m│\u001b[0m                                                                                                                 \u001b[38;2;212;183;2m│\u001b[0m\n",
       "\u001b[38;2;212;183;2m╰─\u001b[0m\u001b[38;2;212;183;2m LiteLLMModel - ollama_chat/qwen2.5-coder:3b \u001b[0m\u001b[38;2;212;183;2m──────────────────────────────────────────────────────────────────\u001b[0m\u001b[38;2;212;183;2m─╯\u001b[0m\n"
      ]
     },
     "metadata": {},
     "output_type": "display_data"
    },
    {
     "data": {
      "text/html": [
       "<pre style=\"white-space:pre;overflow-x:auto;line-height:normal;font-family:Menlo,'DejaVu Sans Mono',consolas,'Courier New',monospace\"><span style=\"color: #d4b702; text-decoration-color: #d4b702\">━━━━━━━━━━━━━━━━━━━━━━━━━━━━━━━━━━━━━━━━━━━━━━━━━━━━━ </span><span style=\"font-weight: bold\">Step </span><span style=\"color: #008080; text-decoration-color: #008080; font-weight: bold\">1</span><span style=\"color: #d4b702; text-decoration-color: #d4b702\"> ━━━━━━━━━━━━━━━━━━━━━━━━━━━━━━━━━━━━━━━━━━━━━━━━━━━━━━</span>\n",
       "</pre>\n"
      ],
      "text/plain": [
       "\u001b[38;2;212;183;2m━━━━━━━━━━━━━━━━━━━━━━━━━━━━━━━━━━━━━━━━━━━━━━━━━━━━━ \u001b[0m\u001b[1mStep \u001b[0m\u001b[1;36m1\u001b[0m\u001b[38;2;212;183;2m ━━━━━━━━━━━━━━━━━━━━━━━━━━━━━━━━━━━━━━━━━━━━━━━━━━━━━━\u001b[0m\n"
      ]
     },
     "metadata": {},
     "output_type": "display_data"
    },
    {
     "data": {
      "text/html": [
       "<pre style=\"white-space:pre;overflow-x:auto;line-height:normal;font-family:Menlo,'DejaVu Sans Mono',consolas,'Courier New',monospace\"><span style=\"color: #800000; text-decoration-color: #800000; font-weight: bold\">Error while generating or parsing output:</span>\n",
       "<span style=\"color: #800000; text-decoration-color: #800000; font-weight: bold\">The JSON blob you used is invalid due to the following error: Expecting value: line </span><span style=\"color: #008080; text-decoration-color: #008080; font-weight: bold\">3</span><span style=\"color: #800000; text-decoration-color: #800000; font-weight: bold\"> column </span><span style=\"color: #008080; text-decoration-color: #008080; font-weight: bold\">125</span><span style=\"color: #800000; text-decoration-color: #800000; font-weight: bold\"> (char </span><span style=\"color: #008080; text-decoration-color: #008080; font-weight: bold\">153</span><span style=\"color: #800000; text-decoration-color: #800000; font-weight: bold\">).</span>\n",
       "<span style=\"color: #800000; text-decoration-color: #800000; font-weight: bold\">JSON blob was: {</span>\n",
       "<span style=\"color: #800000; text-decoration-color: #800000; font-weight: bold\">    </span><span style=\"color: #008000; text-decoration-color: #008000\">\"name\"</span><span style=\"color: #800000; text-decoration-color: #800000; font-weight: bold\">: </span><span style=\"color: #008000; text-decoration-color: #008000\">\"get_weather\"</span><span style=\"color: #800000; text-decoration-color: #800000; font-weight: bold\">,</span>\n",
       "<span style=\"color: #800000; text-decoration-color: #800000; font-weight: bold\">    </span><span style=\"color: #008000; text-decoration-color: #008000\">\"arguments\"</span><span style=\"color: #800000; text-decoration-color: #800000; font-weight: bold\">: {</span><span style=\"color: #008000; text-decoration-color: #008000\">\"location\"</span><span style=\"color: #800000; text-decoration-color: #800000; font-weight: bold\">: {</span><span style=\"color: #008000; text-decoration-color: #008000\">\"type\"</span><span style=\"color: #800000; text-decoration-color: #800000; font-weight: bold\">: </span><span style=\"color: #008000; text-decoration-color: #008000\">\"string\"</span><span style=\"color: #800000; text-decoration-color: #800000; font-weight: bold\">, </span><span style=\"color: #008000; text-decoration-color: #008000\">\"description\"</span><span style=\"color: #800000; text-decoration-color: #800000; font-weight: bold\">: </span><span style=\"color: #008000; text-decoration-color: #008000\">\"the location\"</span><span style=\"color: #800000; text-decoration-color: #800000; font-weight: bold\">}, </span><span style=\"color: #008000; text-decoration-color: #008000\">\"celsius\"</span><span style=\"color: #800000; text-decoration-color: #800000; font-weight: bold\">: {</span><span style=\"color: #008000; text-decoration-color: #008000\">\"type\"</span><span style=\"color: #800000; text-decoration-color: #800000; font-weight: bold\">: </span><span style=\"color: #008000; text-decoration-color: #008000\">\"boolean\"</span><span style=\"color: #800000; text-decoration-color: #800000; font-weight: bold\">, </span>\n",
       "<span style=\"color: #008000; text-decoration-color: #008000\">\"nullable\"</span><span style=\"color: #800000; text-decoration-color: #800000; font-weight: bold\">: </span><span style=\"color: #00ff00; text-decoration-color: #00ff00; font-weight: bold; font-style: italic\">True</span><span style=\"color: #800000; text-decoration-color: #800000; font-weight: bold\">, </span><span style=\"color: #008000; text-decoration-color: #008000\">\"description\"</span><span style=\"color: #800000; text-decoration-color: #800000; font-weight: bold\">: </span><span style=\"color: #008000; text-decoration-color: #008000\">\"whether to use Celsius for temperature\"</span><span style=\"color: #800000; text-decoration-color: #800000; font-weight: bold\">}}</span>\n",
       "<span style=\"color: #800000; text-decoration-color: #800000; font-weight: bold\">}, decoding failed on that specific part of the blob:</span>\n",
       "<span style=\"color: #008000; text-decoration-color: #008000\">'e\": True,'</span><span style=\"color: #800000; text-decoration-color: #800000; font-weight: bold\">.</span>\n",
       "</pre>\n"
      ],
      "text/plain": [
       "\u001b[1;31mError while generating or parsing output:\u001b[0m\n",
       "\u001b[1;31mThe JSON blob you used is invalid due to the following error: Expecting value: line \u001b[0m\u001b[1;36m3\u001b[0m\u001b[1;31m column \u001b[0m\u001b[1;36m125\u001b[0m\u001b[1;31m \u001b[0m\u001b[1;31m(\u001b[0m\u001b[1;31mchar \u001b[0m\u001b[1;36m153\u001b[0m\u001b[1;31m)\u001b[0m\u001b[1;31m.\u001b[0m\n",
       "\u001b[1;31mJSON blob was: \u001b[0m\u001b[1;31m{\u001b[0m\n",
       "\u001b[1;31m    \u001b[0m\u001b[32m\"name\"\u001b[0m\u001b[1;31m: \u001b[0m\u001b[32m\"get_weather\"\u001b[0m\u001b[1;31m,\u001b[0m\n",
       "\u001b[1;31m    \u001b[0m\u001b[32m\"arguments\"\u001b[0m\u001b[1;31m: \u001b[0m\u001b[1;31m{\u001b[0m\u001b[32m\"location\"\u001b[0m\u001b[1;31m: \u001b[0m\u001b[1;31m{\u001b[0m\u001b[32m\"type\"\u001b[0m\u001b[1;31m: \u001b[0m\u001b[32m\"string\"\u001b[0m\u001b[1;31m, \u001b[0m\u001b[32m\"description\"\u001b[0m\u001b[1;31m: \u001b[0m\u001b[32m\"the location\"\u001b[0m\u001b[1;31m}\u001b[0m\u001b[1;31m, \u001b[0m\u001b[32m\"celsius\"\u001b[0m\u001b[1;31m: \u001b[0m\u001b[1;31m{\u001b[0m\u001b[32m\"type\"\u001b[0m\u001b[1;31m: \u001b[0m\u001b[32m\"boolean\"\u001b[0m\u001b[1;31m, \u001b[0m\n",
       "\u001b[32m\"nullable\"\u001b[0m\u001b[1;31m: \u001b[0m\u001b[1;3;92mTrue\u001b[0m\u001b[1;31m, \u001b[0m\u001b[32m\"description\"\u001b[0m\u001b[1;31m: \u001b[0m\u001b[32m\"whether to use Celsius for temperature\"\u001b[0m\u001b[1;31m}\u001b[0m\u001b[1;31m}\u001b[0m\n",
       "\u001b[1;31m}\u001b[0m\u001b[1;31m, decoding failed on that specific part of the blob:\u001b[0m\n",
       "\u001b[32m'e\": True,'\u001b[0m\u001b[1;31m.\u001b[0m\n"
      ]
     },
     "metadata": {},
     "output_type": "display_data"
    },
    {
     "data": {
      "text/html": [
       "<pre style=\"white-space:pre;overflow-x:auto;line-height:normal;font-family:Menlo,'DejaVu Sans Mono',consolas,'Courier New',monospace\"><span style=\"color: #7f7f7f; text-decoration-color: #7f7f7f\">[Step 1: Duration 3.64 seconds| Input tokens: 1,138 | Output tokens: 57]</span>\n",
       "</pre>\n"
      ],
      "text/plain": [
       "\u001b[2m[Step 1: Duration 3.64 seconds| Input tokens: 1,138 | Output tokens: 57]\u001b[0m\n"
      ]
     },
     "metadata": {},
     "output_type": "display_data"
    },
    {
     "data": {
      "text/html": [
       "<pre style=\"white-space:pre;overflow-x:auto;line-height:normal;font-family:Menlo,'DejaVu Sans Mono',consolas,'Courier New',monospace\"><span style=\"color: #d4b702; text-decoration-color: #d4b702\">━━━━━━━━━━━━━━━━━━━━━━━━━━━━━━━━━━━━━━━━━━━━━━━━━━━━━ </span><span style=\"font-weight: bold\">Step </span><span style=\"color: #008080; text-decoration-color: #008080; font-weight: bold\">2</span><span style=\"color: #d4b702; text-decoration-color: #d4b702\"> ━━━━━━━━━━━━━━━━━━━━━━━━━━━━━━━━━━━━━━━━━━━━━━━━━━━━━━</span>\n",
       "</pre>\n"
      ],
      "text/plain": [
       "\u001b[38;2;212;183;2m━━━━━━━━━━━━━━━━━━━━━━━━━━━━━━━━━━━━━━━━━━━━━━━━━━━━━ \u001b[0m\u001b[1mStep \u001b[0m\u001b[1;36m2\u001b[0m\u001b[38;2;212;183;2m ━━━━━━━━━━━━━━━━━━━━━━━━━━━━━━━━━━━━━━━━━━━━━━━━━━━━━━\u001b[0m\n"
      ]
     },
     "metadata": {},
     "output_type": "display_data"
    },
    {
     "data": {
      "text/html": [
       "<pre style=\"white-space:pre;overflow-x:auto;line-height:normal;font-family:Menlo,'DejaVu Sans Mono',consolas,'Courier New',monospace\">╭─────────────────────────────────────────────────────────────────────────────────────────────────────────────────╮\n",
       "│ Calling tool: 'get_weather' with arguments: {'location': 'London', 'celsius': True}                             │\n",
       "╰─────────────────────────────────────────────────────────────────────────────────────────────────────────────────╯\n",
       "</pre>\n"
      ],
      "text/plain": [
       "╭─────────────────────────────────────────────────────────────────────────────────────────────────────────────────╮\n",
       "│ Calling tool: 'get_weather' with arguments: {'location': 'London', 'celsius': True}                             │\n",
       "╰─────────────────────────────────────────────────────────────────────────────────────────────────────────────────╯\n"
      ]
     },
     "metadata": {},
     "output_type": "display_data"
    },
    {
     "data": {
      "text/html": [
       "<pre style=\"white-space:pre;overflow-x:auto;line-height:normal;font-family:Menlo,'DejaVu Sans Mono',consolas,'Courier New',monospace\">Observations: The weather in London is sunny with temperatures around <span style=\"color: #008080; text-decoration-color: #008080; font-weight: bold\">25</span>°C.\n",
       "</pre>\n"
      ],
      "text/plain": [
       "Observations: The weather in London is sunny with temperatures around \u001b[1;36m25\u001b[0m°C.\n"
      ]
     },
     "metadata": {},
     "output_type": "display_data"
    },
    {
     "data": {
      "text/html": [
       "<pre style=\"white-space:pre;overflow-x:auto;line-height:normal;font-family:Menlo,'DejaVu Sans Mono',consolas,'Courier New',monospace\"><span style=\"color: #7f7f7f; text-decoration-color: #7f7f7f\">[Step 2: Duration 1.19 seconds| Input tokens: 2,419 | Output tokens: 88]</span>\n",
       "</pre>\n"
      ],
      "text/plain": [
       "\u001b[2m[Step 2: Duration 1.19 seconds| Input tokens: 2,419 | Output tokens: 88]\u001b[0m\n"
      ]
     },
     "metadata": {},
     "output_type": "display_data"
    },
    {
     "data": {
      "text/html": [
       "<pre style=\"white-space:pre;overflow-x:auto;line-height:normal;font-family:Menlo,'DejaVu Sans Mono',consolas,'Courier New',monospace\"><span style=\"color: #d4b702; text-decoration-color: #d4b702\">━━━━━━━━━━━━━━━━━━━━━━━━━━━━━━━━━━━━━━━━━━━━━━━━━━━━━ </span><span style=\"font-weight: bold\">Step </span><span style=\"color: #008080; text-decoration-color: #008080; font-weight: bold\">3</span><span style=\"color: #d4b702; text-decoration-color: #d4b702\"> ━━━━━━━━━━━━━━━━━━━━━━━━━━━━━━━━━━━━━━━━━━━━━━━━━━━━━━</span>\n",
       "</pre>\n"
      ],
      "text/plain": [
       "\u001b[38;2;212;183;2m━━━━━━━━━━━━━━━━━━━━━━━━━━━━━━━━━━━━━━━━━━━━━━━━━━━━━ \u001b[0m\u001b[1mStep \u001b[0m\u001b[1;36m3\u001b[0m\u001b[38;2;212;183;2m ━━━━━━━━━━━━━━━━━━━━━━━━━━━━━━━━━━━━━━━━━━━━━━━━━━━━━━\u001b[0m\n"
      ]
     },
     "metadata": {},
     "output_type": "display_data"
    },
    {
     "data": {
      "text/html": [
       "<pre style=\"white-space:pre;overflow-x:auto;line-height:normal;font-family:Menlo,'DejaVu Sans Mono',consolas,'Courier New',monospace\">╭─────────────────────────────────────────────────────────────────────────────────────────────────────────────────╮\n",
       "│ Calling tool: 'final_answer' with arguments: The weather in London is sunny with temperatures around 25°C.      │\n",
       "╰─────────────────────────────────────────────────────────────────────────────────────────────────────────────────╯\n",
       "</pre>\n"
      ],
      "text/plain": [
       "╭─────────────────────────────────────────────────────────────────────────────────────────────────────────────────╮\n",
       "│ Calling tool: 'final_answer' with arguments: The weather in London is sunny with temperatures around 25°C.      │\n",
       "╰─────────────────────────────────────────────────────────────────────────────────────────────────────────────────╯\n"
      ]
     },
     "metadata": {},
     "output_type": "display_data"
    },
    {
     "data": {
      "text/html": [
       "<pre style=\"white-space:pre;overflow-x:auto;line-height:normal;font-family:Menlo,'DejaVu Sans Mono',consolas,'Courier New',monospace\"><span style=\"color: #d4b702; text-decoration-color: #d4b702; font-weight: bold\">Final answer: The weather in London is sunny with temperatures around 25°C.</span>\n",
       "</pre>\n"
      ],
      "text/plain": [
       "\u001b[1;38;2;212;183;2mFinal answer: The weather in London is sunny with temperatures around 25°C.\u001b[0m\n"
      ]
     },
     "metadata": {},
     "output_type": "display_data"
    },
    {
     "data": {
      "text/html": [
       "<pre style=\"white-space:pre;overflow-x:auto;line-height:normal;font-family:Menlo,'DejaVu Sans Mono',consolas,'Courier New',monospace\"><span style=\"color: #7f7f7f; text-decoration-color: #7f7f7f\">[Step 3: Duration 1.39 seconds| Input tokens: 3,835 | Output tokens: 118]</span>\n",
       "</pre>\n"
      ],
      "text/plain": [
       "\u001b[2m[Step 3: Duration 1.39 seconds| Input tokens: 3,835 | Output tokens: 118]\u001b[0m\n"
      ]
     },
     "metadata": {},
     "output_type": "display_data"
    },
    {
     "name": "stdout",
     "output_type": "stream",
     "text": [
      "The weather in London is sunny with temperatures around 25°C.\n"
     ]
    },
    {
     "data": {
      "text/html": [
       "<pre style=\"white-space:pre;overflow-x:auto;line-height:normal;font-family:Menlo,'DejaVu Sans Mono',consolas,'Courier New',monospace\"><span style=\"color: #d4b702; text-decoration-color: #d4b702\">╭──────────────────────────────────────────────────── </span><span style=\"color: #d4b702; text-decoration-color: #d4b702; font-weight: bold\">New run</span><span style=\"color: #d4b702; text-decoration-color: #d4b702\"> ────────────────────────────────────────────────────╮</span>\n",
       "<span style=\"color: #d4b702; text-decoration-color: #d4b702\">│</span>                                                                                                                 <span style=\"color: #d4b702; text-decoration-color: #d4b702\">│</span>\n",
       "<span style=\"color: #d4b702; text-decoration-color: #d4b702\">│</span> <span style=\"font-weight: bold\">what is the weather in chandigarh?</span>                                                                              <span style=\"color: #d4b702; text-decoration-color: #d4b702\">│</span>\n",
       "<span style=\"color: #d4b702; text-decoration-color: #d4b702\">│</span>                                                                                                                 <span style=\"color: #d4b702; text-decoration-color: #d4b702\">│</span>\n",
       "<span style=\"color: #d4b702; text-decoration-color: #d4b702\">╰─ LiteLLMModel - ollama_chat/qwen2.5-coder:3b ───────────────────────────────────────────────────────────────────╯</span>\n",
       "</pre>\n"
      ],
      "text/plain": [
       "\u001b[38;2;212;183;2m╭─\u001b[0m\u001b[38;2;212;183;2m───────────────────────────────────────────────────\u001b[0m\u001b[38;2;212;183;2m \u001b[0m\u001b[1;38;2;212;183;2mNew run\u001b[0m\u001b[38;2;212;183;2m \u001b[0m\u001b[38;2;212;183;2m───────────────────────────────────────────────────\u001b[0m\u001b[38;2;212;183;2m─╮\u001b[0m\n",
       "\u001b[38;2;212;183;2m│\u001b[0m                                                                                                                 \u001b[38;2;212;183;2m│\u001b[0m\n",
       "\u001b[38;2;212;183;2m│\u001b[0m \u001b[1mwhat is the weather in chandigarh?\u001b[0m                                                                              \u001b[38;2;212;183;2m│\u001b[0m\n",
       "\u001b[38;2;212;183;2m│\u001b[0m                                                                                                                 \u001b[38;2;212;183;2m│\u001b[0m\n",
       "\u001b[38;2;212;183;2m╰─\u001b[0m\u001b[38;2;212;183;2m LiteLLMModel - ollama_chat/qwen2.5-coder:3b \u001b[0m\u001b[38;2;212;183;2m──────────────────────────────────────────────────────────────────\u001b[0m\u001b[38;2;212;183;2m─╯\u001b[0m\n"
      ]
     },
     "metadata": {},
     "output_type": "display_data"
    },
    {
     "data": {
      "text/html": [
       "<pre style=\"white-space:pre;overflow-x:auto;line-height:normal;font-family:Menlo,'DejaVu Sans Mono',consolas,'Courier New',monospace\"><span style=\"color: #d4b702; text-decoration-color: #d4b702\">━━━━━━━━━━━━━━━━━━━━━━━━━━━━━━━━━━━━━━━━━━━━━━━━━━━━━ </span><span style=\"font-weight: bold\">Step </span><span style=\"color: #008080; text-decoration-color: #008080; font-weight: bold\">1</span><span style=\"color: #d4b702; text-decoration-color: #d4b702\"> ━━━━━━━━━━━━━━━━━━━━━━━━━━━━━━━━━━━━━━━━━━━━━━━━━━━━━━</span>\n",
       "</pre>\n"
      ],
      "text/plain": [
       "\u001b[38;2;212;183;2m━━━━━━━━━━━━━━━━━━━━━━━━━━━━━━━━━━━━━━━━━━━━━━━━━━━━━ \u001b[0m\u001b[1mStep \u001b[0m\u001b[1;36m1\u001b[0m\u001b[38;2;212;183;2m ━━━━━━━━━━━━━━━━━━━━━━━━━━━━━━━━━━━━━━━━━━━━━━━━━━━━━━\u001b[0m\n"
      ]
     },
     "metadata": {},
     "output_type": "display_data"
    },
    {
     "data": {
      "text/html": [
       "<pre style=\"white-space:pre;overflow-x:auto;line-height:normal;font-family:Menlo,'DejaVu Sans Mono',consolas,'Courier New',monospace\">╭─────────────────────────────────────────────────────────────────────────────────────────────────────────────────╮\n",
       "│ Calling tool: 'get_weather' with arguments: {'celsius': True, 'location': 'Chandigarh'}                         │\n",
       "╰─────────────────────────────────────────────────────────────────────────────────────────────────────────────────╯\n",
       "</pre>\n"
      ],
      "text/plain": [
       "╭─────────────────────────────────────────────────────────────────────────────────────────────────────────────────╮\n",
       "│ Calling tool: 'get_weather' with arguments: {'celsius': True, 'location': 'Chandigarh'}                         │\n",
       "╰─────────────────────────────────────────────────────────────────────────────────────────────────────────────────╯\n"
      ]
     },
     "metadata": {},
     "output_type": "display_data"
    },
    {
     "data": {
      "text/html": [
       "<pre style=\"white-space:pre;overflow-x:auto;line-height:normal;font-family:Menlo,'DejaVu Sans Mono',consolas,'Courier New',monospace\">Observations: The weather in Chandigarh is sunny with temperatures around <span style=\"color: #008080; text-decoration-color: #008080; font-weight: bold\">25</span>°C.\n",
       "</pre>\n"
      ],
      "text/plain": [
       "Observations: The weather in Chandigarh is sunny with temperatures around \u001b[1;36m25\u001b[0m°C.\n"
      ]
     },
     "metadata": {},
     "output_type": "display_data"
    },
    {
     "data": {
      "text/html": [
       "<pre style=\"white-space:pre;overflow-x:auto;line-height:normal;font-family:Menlo,'DejaVu Sans Mono',consolas,'Courier New',monospace\"><span style=\"color: #7f7f7f; text-decoration-color: #7f7f7f\">[Step 1: Duration 0.84 seconds| Input tokens: 1,141 | Output tokens: 26]</span>\n",
       "</pre>\n"
      ],
      "text/plain": [
       "\u001b[2m[Step 1: Duration 0.84 seconds| Input tokens: 1,141 | Output tokens: 26]\u001b[0m\n"
      ]
     },
     "metadata": {},
     "output_type": "display_data"
    },
    {
     "data": {
      "text/html": [
       "<pre style=\"white-space:pre;overflow-x:auto;line-height:normal;font-family:Menlo,'DejaVu Sans Mono',consolas,'Courier New',monospace\"><span style=\"color: #d4b702; text-decoration-color: #d4b702\">━━━━━━━━━━━━━━━━━━━━━━━━━━━━━━━━━━━━━━━━━━━━━━━━━━━━━ </span><span style=\"font-weight: bold\">Step </span><span style=\"color: #008080; text-decoration-color: #008080; font-weight: bold\">2</span><span style=\"color: #d4b702; text-decoration-color: #d4b702\"> ━━━━━━━━━━━━━━━━━━━━━━━━━━━━━━━━━━━━━━━━━━━━━━━━━━━━━━</span>\n",
       "</pre>\n"
      ],
      "text/plain": [
       "\u001b[38;2;212;183;2m━━━━━━━━━━━━━━━━━━━━━━━━━━━━━━━━━━━━━━━━━━━━━━━━━━━━━ \u001b[0m\u001b[1mStep \u001b[0m\u001b[1;36m2\u001b[0m\u001b[38;2;212;183;2m ━━━━━━━━━━━━━━━━━━━━━━━━━━━━━━━━━━━━━━━━━━━━━━━━━━━━━━\u001b[0m\n"
      ]
     },
     "metadata": {},
     "output_type": "display_data"
    },
    {
     "data": {
      "text/html": [
       "<pre style=\"white-space:pre;overflow-x:auto;line-height:normal;font-family:Menlo,'DejaVu Sans Mono',consolas,'Courier New',monospace\">╭─────────────────────────────────────────────────────────────────────────────────────────────────────────────────╮\n",
       "│ Calling tool: 'final_answer' with arguments: The weather in Chandigarh is sunny with temperatures around 25°C.  │\n",
       "╰─────────────────────────────────────────────────────────────────────────────────────────────────────────────────╯\n",
       "</pre>\n"
      ],
      "text/plain": [
       "╭─────────────────────────────────────────────────────────────────────────────────────────────────────────────────╮\n",
       "│ Calling tool: 'final_answer' with arguments: The weather in Chandigarh is sunny with temperatures around 25°C.  │\n",
       "╰─────────────────────────────────────────────────────────────────────────────────────────────────────────────────╯\n"
      ]
     },
     "metadata": {},
     "output_type": "display_data"
    },
    {
     "data": {
      "text/html": [
       "<pre style=\"white-space:pre;overflow-x:auto;line-height:normal;font-family:Menlo,'DejaVu Sans Mono',consolas,'Courier New',monospace\"><span style=\"color: #d4b702; text-decoration-color: #d4b702; font-weight: bold\">Final answer: The weather in Chandigarh is sunny with temperatures around 25°C.</span>\n",
       "</pre>\n"
      ],
      "text/plain": [
       "\u001b[1;38;2;212;183;2mFinal answer: The weather in Chandigarh is sunny with temperatures around 25°C.\u001b[0m\n"
      ]
     },
     "metadata": {},
     "output_type": "display_data"
    },
    {
     "data": {
      "text/html": [
       "<pre style=\"white-space:pre;overflow-x:auto;line-height:normal;font-family:Menlo,'DejaVu Sans Mono',consolas,'Courier New',monospace\"><span style=\"color: #7f7f7f; text-decoration-color: #7f7f7f\">[Step 2: Duration 1.15 seconds| Input tokens: 2,426 | Output tokens: 58]</span>\n",
       "</pre>\n"
      ],
      "text/plain": [
       "\u001b[2m[Step 2: Duration 1.15 seconds| Input tokens: 2,426 | Output tokens: 58]\u001b[0m\n"
      ]
     },
     "metadata": {},
     "output_type": "display_data"
    },
    {
     "name": "stdout",
     "output_type": "stream",
     "text": [
      "The weather in Chandigarh is sunny with temperatures around 25°C.\n"
     ]
    }
   ],
   "source": [
    "from smolagents import ToolCallingAgent, tool\n",
    "from typing import Optional\n",
    "\n",
    "@tool\n",
    "def get_weather(location: str, celsius: Optional[bool] = False) -> str:\n",
    "    \"\"\"\n",
    "    Get weather in the next days at given location.\n",
    "    Args:\n",
    "        location: the location\n",
    "        celsius: whether to use Celsius for temperature\n",
    "    \"\"\"\n",
    "    return f\"The weather in {location} is sunny with temperatures around 25°C.\"\n",
    "\n",
    "print(get_weather(\"London\"))\n",
    "\n",
    "agent = ToolCallingAgent(\n",
    "    model=model,\n",
    "    tools=[get_weather],\n",
    "    #add_base_tools=True,\n",
    ")\n",
    "\n",
    "final_output = agent.run(\n",
    "    \"what is the weather in london?\",\n",
    ")\n",
    "print(final_output)\n",
    "\n",
    "final_output = agent.run(\n",
    "    \"what is the weather in chandigarh?\",\n",
    ")\n",
    "print(final_output)\n"
   ]
  }
 ],
 "metadata": {
  "kernelspec": {
   "display_name": ".venv",
   "language": "python",
   "name": "python3"
  },
  "language_info": {
   "codemirror_mode": {
    "name": "ipython",
    "version": 3
   },
   "file_extension": ".py",
   "mimetype": "text/x-python",
   "name": "python",
   "nbconvert_exporter": "python",
   "pygments_lexer": "ipython3",
   "version": "3.11.10"
  }
 },
 "nbformat": 4,
 "nbformat_minor": 2
}
